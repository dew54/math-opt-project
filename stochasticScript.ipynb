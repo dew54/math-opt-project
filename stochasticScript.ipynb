{
 "cells": [
  {
   "cell_type": "code",
   "execution_count": 1,
   "metadata": {},
   "outputs": [],
   "source": [
    "from unicodedata import name\n",
    "from matplotlib import pyplot as plt\n",
    "from matplotlib import collections  as mc\n",
    "\n",
    "import pandas as pd\n",
    "import runExpeStoc\n",
    "import generateData\n",
    "import generateSimpleData\n",
    "from classes.utils import Utils\n",
    "from classes.plotting import Plotting\n",
    "\n",
    "num_i = 10\n",
    "num_a = 1\n",
    "num_b = 4\n",
    "num_c = 3\n",
    "num_h = 2\n",
    "num_t = 1\n",
    "num_selfEva = 1\n",
    "numClas = 1\n",
    "numScenarios = 5\n",
    "upperTimeLimit = 500\n",
    "penalty = 7000\n",
    "evaDemand = [300, 700]\n",
    "objFunction = {\n",
    "    1 : 'bal_1',\n",
    "}\n",
    "\n",
    "params = dict()\n",
    "params['upperTimeLimit'] = upperTimeLimit\n",
    "params['penalty'] = penalty\n",
    "params['objFunction'] = objFunction[1]\n",
    "m = 0\n",
    "params['percentToEva'] = m\n",
    "if m == 0:\n",
    "    params['force_eva_percent'] = False\n",
    "else:\n",
    "    params['force_eva_percent'] = True"
   ]
  },
  {
   "cell_type": "code",
   "execution_count": 2,
   "metadata": {},
   "outputs": [
    {
     "name": "stdout",
     "output_type": "stream",
     "text": [
      "=========Creating nodes=========\n",
      "=========End creating nodes=========\n",
      "=========Populationg scenarios=========\n",
      "=========End creating Scenarios=========\n",
      "=========Creating resources=========\n",
      "=========End creating resources=========\n",
      "=========Computing k values=========\n",
      "=========End computing k values=========\n",
      "=========Creating Arcs=========\n",
      "=========End creating arcs=========\n",
      "=========Start writing data=========\n",
      "=========End writing data=========\n"
     ]
    }
   ],
   "source": [
    "data = generateData.generateData(num_i, num_a, num_h, num_b, num_c, num_selfEva, evaDemand, numClas, numScenarios)"
   ]
  },
  {
   "cell_type": "code",
   "execution_count": 3,
   "metadata": {},
   "outputs": [
    {
     "name": "stdout",
     "output_type": "stream",
     "text": [
      "Restricted license - for non-production use only - expires 2023-10-25\n"
     ]
    },
    {
     "ename": "GurobiError",
     "evalue": "Model too large for size-limited license; visit https://www.gurobi.com/free-trial for a full license",
     "output_type": "error",
     "traceback": [
      "\u001b[1;31m---------------------------------------------------------------------------\u001b[0m",
      "\u001b[1;31mGurobiError\u001b[0m                               Traceback (most recent call last)",
      "Cell \u001b[1;32mIn [3], line 1\u001b[0m\n\u001b[1;32m----> 1\u001b[0m status, runtime, objVal, experiment \u001b[38;5;241m=\u001b[39m runExpeStoc\u001b[38;5;241m.\u001b[39mrunExpeStochastic(data, params)\n",
      "File \u001b[1;32mc:\\Users\\dew54\\OneDrive\\Documenti\\UniTs\\MathOpt\\progetto\\math-opt-project\\runExpeStoc.py:394\u001b[0m, in \u001b[0;36mrunExpeStochastic\u001b[1;34m(data, params, timeLimit)\u001b[0m\n\u001b[0;32m    391\u001b[0m \u001b[39m# S_ICEP.setObjectiveN(firstObj[objFunction] + gb.quicksum(scenarios[s].probability*secondObj[s] for s in range(num_s)), 0, 1)\u001b[39;00m\n\u001b[0;32m    392\u001b[0m \u001b[39m#S_ICEP.tune()\u001b[39;00m\n\u001b[0;32m    393\u001b[0m S_ICEP\u001b[39m.\u001b[39mwrite(\u001b[39m\"\u001b[39m\u001b[39mmodel/mymodel.lp\u001b[39m\u001b[39m\"\u001b[39m)\n\u001b[1;32m--> 394\u001b[0m S_ICEP\u001b[39m.\u001b[39;49moptimize()\n\u001b[0;32m    396\u001b[0m \u001b[39mif\u001b[39;00m S_ICEP\u001b[39m.\u001b[39mstatus \u001b[39m==\u001b[39m \u001b[39m2\u001b[39m:\n\u001b[0;32m    397\u001b[0m     S_ICEP\u001b[39m.\u001b[39mwrite(\u001b[39m\"\u001b[39m\u001b[39mmodel/solution.sol\u001b[39m\u001b[39m\"\u001b[39m)\n",
      "File \u001b[1;32msrc\\gurobipy\\model.pxi:864\u001b[0m, in \u001b[0;36mgurobipy.Model.optimize\u001b[1;34m()\u001b[0m\n",
      "\u001b[1;31mGurobiError\u001b[0m: Model too large for size-limited license; visit https://www.gurobi.com/free-trial for a full license"
     ]
    }
   ],
   "source": [
    "status, runtime, objVal, experiment = runExpeStoc.runExpeStochastic(data, params)"
   ]
  },
  {
   "cell_type": "code",
   "execution_count": null,
   "metadata": {},
   "outputs": [],
   "source": [
    "\n",
    "df = pd.DataFrame(columns=['is_in_fleet', 'Time', 'MeanCost'])\n",
    "isResInFleet, key = Utils.getVars(Utils, experiment.getVars(), 'isResInFleet')\n",
    "meanTimeForResourceI , key = Utils.getVars(Utils, experiment.getVars(), 'meanTimeForResourceI')\n",
    "costs = []\n",
    "for i in range(num_i):\n",
    "    costs.append(data['resources'][i].fixedCost + data['resources'][i].varCost * meanTimeForResourceI[i])\n",
    "\n",
    "df['IsSelected'] = isResInFleet\n",
    "df['Time'] = meanTimeForResourceI\n",
    "df['MeanCost'] = costs\n",
    "\n",
    "df\n"
   ]
  }
 ],
 "metadata": {
  "kernelspec": {
   "display_name": "Python 3.10.4 64-bit",
   "language": "python",
   "name": "python3"
  },
  "language_info": {
   "codemirror_mode": {
    "name": "ipython",
    "version": 3
   },
   "file_extension": ".py",
   "mimetype": "text/x-python",
   "name": "python",
   "nbconvert_exporter": "python",
   "pygments_lexer": "ipython3",
   "version": "3.10.4"
  },
  "orig_nbformat": 4,
  "vscode": {
   "interpreter": {
    "hash": "369f2c481f4da34e4445cda3fffd2e751bd1c4d706f27375911949ba6bb62e1c"
   }
  }
 },
 "nbformat": 4,
 "nbformat_minor": 2
}
