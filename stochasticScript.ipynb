{
 "cells": [
  {
   "cell_type": "code",
   "execution_count": null,
   "metadata": {},
   "outputs": [],
   "source": [
    "from unicodedata import name\n",
    "from matplotlib import pyplot as plt\n",
    "from matplotlib import collections  as mc\n",
    "\n",
    "import runExpe\n",
    "import runExpeStoc\n",
    "import generateData\n",
    "import generateSimpleData\n",
    "from utils import Utils\n",
    "import plotting\n",
    "\n",
    "\n",
    "\n",
    "num_i = 2\n",
    "num_a = 2\n",
    "num_b = 2\n",
    "num_c = 2\n",
    "num_h = 1\n",
    "num_t = 1\n",
    "num_selfEva = 1\n",
    "numClas = 1\n",
    "numScenarios = 5\n",
    "upperTimeLimit = 500\n",
    "penalty = 7000\n",
    "evaDemand = [30, 70]\n",
    "objFunction = {\n",
    "    1 : 'bal_1',\n",
    "    2 : 'bal_2',\n",
    "    3 : 'cons_1',\n",
    "    4 : 'cons_2',\n",
    "    5 : 'econ_1',\n",
    "    6 : 'econ_2',\n",
    "}"
   ]
  },
  {
   "cell_type": "code",
   "execution_count": null,
   "metadata": {},
   "outputs": [],
   "source": [
    "data = generateData.generateData(num_i, num_a, num_h, num_b, num_c, num_selfEva, evaDemand, numClas, numScenarios)"
   ]
  },
  {
   "cell_type": "code",
   "execution_count": null,
   "metadata": {},
   "outputs": [],
   "source": [
    "status, runtime, objVal, experiment = runExpeStoc.runExpeStochastic(data, upperTimeLimit, penalty, objFunction[1])"
   ]
  },
  {
   "cell_type": "code",
   "execution_count": null,
   "metadata": {},
   "outputs": [],
   "source": [
    "plotting = plotting.Plotting(data)\n",
    "vars = experiment.getVars()\n",
    "i = 0                               # Resource 1 index\n",
    "k = 0                               # Trip 1 index\n",
    "s = 0\n",
    "objValue = objVal\n",
    "plotting.plotBase()                     # Plot base nodes and roads\n",
    "plotting.plotZetaArc(vars, i, s)       # Plot arcs from initial locations to pickup poiunts\n",
    "plotting.plotGammaArc(vars, i, k, s)   # Plot arcs from pickUp to shelters\n",
    "plotting.plotDeltaArc(vars, i, k, s)   # Plot arcs from shelters back to pickUp points\n",
    "plotting.plotGammaArc(vars, i, k+1, s) # Plot arcs from pickUp to shelters in the succesively trip\n",
    "plotting.show()"
   ]
  }
 ],
 "metadata": {
  "kernelspec": {
   "display_name": "Python 3.10.7 64-bit (microsoft store)",
   "language": "python",
   "name": "python3"
  },
  "language_info": {
   "codemirror_mode": {
    "name": "ipython",
    "version": 3
   },
   "file_extension": ".py",
   "mimetype": "text/x-python",
   "name": "python",
   "nbconvert_exporter": "python",
   "pygments_lexer": "ipython3",
   "version": "3.10.7"
  },
  "orig_nbformat": 4,
  "vscode": {
   "interpreter": {
    "hash": "512289f55eb247469533b85313b27777bff6c90494db497773b65812ad2bdb32"
   }
  }
 },
 "nbformat": 4,
 "nbformat_minor": 2
}
